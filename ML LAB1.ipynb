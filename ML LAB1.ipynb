{
 "cells": [
  {
   "cell_type": "code",
   "execution_count": 1,
   "metadata": {},
   "outputs": [
    {
     "name": "stdout",
     "output_type": "stream",
     "text": [
      "hello world\n"
     ]
    }
   ],
   "source": [
    "print(\"hello world\")"
   ]
  },
  {
   "cell_type": "code",
   "execution_count": null,
   "metadata": {},
   "outputs": [],
   "source": [
    "num = int(input(\"Enter the number\"))\n",
    "print(num)"
   ]
  },
  {
   "cell_type": "code",
   "execution_count": null,
   "metadata": {},
   "outputs": [],
   "source": [
    "for i in range(3):\n",
    "    a = int(input(\"Enter first number\"));\n",
    "    b = int(input(\"Enter second number\"));\n",
    "    c = int(input(\"Enter the operation\"));\n",
    "\n",
    "    if(c==1):\n",
    "        print(a+b)\n",
    "    elif(c==2):\n",
    "        print(a-b)\n",
    "    elif(c==3):\n",
    "        print(a*b)\n",
    "    elif(c==4):\n",
    "        if(b==0):\n",
    "            print(\"Not defined\")\n",
    "        else:\n",
    "            print(a/b)\n",
    "    elif(c==0)\n",
    "        break;\n",
    "\n"
   ]
  },
  {
   "cell_type": "code",
   "execution_count": 57,
   "metadata": {},
   "outputs": [
    {
     "name": "stdout",
     "output_type": "stream",
     "text": [
      "1\n",
      "2\n",
      "54\n",
      "25\n",
      "hii\n",
      "hello\n",
      "2\n",
      "3.5\n",
      "False\n",
      "1\n",
      "2\n",
      "hello\n",
      "2\n",
      "3.5\n",
      "False\n"
     ]
    }
   ],
   "source": [
    "lis = [1,2,54,25,\"hii\",\"hello\",2,3.5,False]\n",
    "for i in range(len(lis)):\n",
    "    print(lis[i])\n",
    "lis.pop(4)\n",
    "# removing elements in range from length\n",
    "del lis[2:4]\n",
    "for i in range(len(lis)):\n",
    "    print(lis[i])\n"
   ]
  },
  {
   "cell_type": "code",
   "execution_count": 91,
   "metadata": {},
   "outputs": [
    {
     "name": "stdout",
     "output_type": "stream",
     "text": [
      "MEAN 38.57142857142857\n",
      "MEIDAN : 40\n",
      "MODE : 50\n",
      "MODE LIB: 38.57142857142857\n",
      "MEDIUM LIB: 40\n",
      "MODE LIB: 50\n"
     ]
    }
   ],
   "source": [
    "import statistics as st\n",
    "li = [10,20,30,40,50,70,50]\n",
    "sum = 0\n",
    "l = len(li)\n",
    "for i in range(l):\n",
    "    sum = sum + li[i]\n",
    "print(\"MEAN\",sum/l)\n",
    "li.sort()\n",
    "x = int(l/2)\n",
    "if(l % 2 == 0):\n",
    "    print(\"MEDIAN :\",(li[x] + li[x-1])/2)\n",
    "else:\n",
    "    print(\"MEIDAN :\", li[x])\n",
    "\n",
    "count = 0\n",
    "maxi = 0\n",
    "mode = li[0]\n",
    "for n in li:\n",
    "    count = 0\n",
    "    for i in range(len(li)):\n",
    "        if(li[i] == n):\n",
    "            count = count + 1\n",
    "    if(count >= maxi):\n",
    "        maxi = count\n",
    "        mode = n\n",
    "print(\"MODE :\",mode)\n",
    "\n",
    "print(\"MODE LIB:\",st.mean(li))\n",
    "print(\"MEDIUM LIB:\",st.median(li))\n",
    "print(\"MODE LIB:\",st.mode(li))\n"
   ]
  },
  {
   "cell_type": "code",
   "execution_count": null,
   "metadata": {},
   "outputs": [],
   "source": []
  }
 ],
 "metadata": {
  "kernelspec": {
   "display_name": "Python 3",
   "language": "python",
   "name": "python3"
  },
  "language_info": {
   "codemirror_mode": {
    "name": "ipython",
    "version": 3
   },
   "file_extension": ".py",
   "mimetype": "text/x-python",
   "name": "python",
   "nbconvert_exporter": "python",
   "pygments_lexer": "ipython3",
   "version": "3.7.3"
  }
 },
 "nbformat": 4,
 "nbformat_minor": 2
}
